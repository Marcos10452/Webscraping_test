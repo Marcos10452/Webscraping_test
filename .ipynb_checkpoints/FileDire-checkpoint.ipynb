{
 "cells": [
  {
   "cell_type": "code",
   "execution_count": 9,
   "metadata": {},
   "outputs": [],
   "source": [
    "import os\n",
    "from os import path"
   ]
  },
  {
   "cell_type": "code",
   "execution_count": 11,
   "metadata": {},
   "outputs": [],
   "source": [
    "def main():\n",
    "    # Print the name of the OS\n",
    "    print(os.name)"
   ]
  },
  {
   "cell_type": "code",
   "execution_count": 12,
   "metadata": {},
   "outputs": [
    {
     "name": "stdout",
     "output_type": "stream",
     "text": [
      "Item exists:False\n",
      "Item is a file: False\n",
      "Item is a directory: False\n"
     ]
    }
   ],
   "source": [
    "#Check for item existence and type\n",
    "print(\"Item exists:\" + str(path.exists(\"guru99.txt\")))\n",
    "print(\"Item is a file: \" + str(path.isfile(\"guru99.txt\")))\n",
    "print(\"Item is a directory: \" + str(path.isdir(\"guru99.txt\")))"
   ]
  },
  {
   "cell_type": "code",
   "execution_count": 13,
   "metadata": {},
   "outputs": [
    {
     "name": "stdout",
     "output_type": "stream",
     "text": [
      "nt\n"
     ]
    }
   ],
   "source": [
    "if __name__ == \"__main__\":\n",
    "    main()"
   ]
  },
  {
   "cell_type": "code",
   "execution_count": null,
   "metadata": {},
   "outputs": [],
   "source": []
  },
  {
   "cell_type": "code",
   "execution_count": 14,
   "metadata": {},
   "outputs": [],
   "source": [
    "def main():\n",
    "\n",
    "   print (\"File exists:\"+str(path.exists('guru99.txt')))\n",
    "   print (\"File exists:\" + str(path.exists('career.guru99.txt')))\n",
    "   print (\"directory exists:\" + str(path.exists('myDirectory')))"
   ]
  },
  {
   "cell_type": "raw",
   "metadata": {},
   "source": [
    "When you run your script, the __name__ variable equals __main__. \n",
    "hen you import the containing script, it will contain the name of the script."
   ]
  },
  {
   "cell_type": "code",
   "execution_count": 15,
   "metadata": {},
   "outputs": [
    {
     "data": {
      "text/plain": [
       "'__main__'"
      ]
     },
     "execution_count": 15,
     "metadata": {},
     "output_type": "execute_result"
    }
   ],
   "source": [
    "__name__"
   ]
  },
  {
   "cell_type": "code",
   "execution_count": null,
   "metadata": {},
   "outputs": [],
   "source": []
  },
  {
   "cell_type": "code",
   "execution_count": 16,
   "metadata": {},
   "outputs": [
    {
     "name": "stdout",
     "output_type": "stream",
     "text": [
      "File exists:False\n",
      "File exists:False\n",
      "directory exists:False\n"
     ]
    }
   ],
   "source": [
    "if __name__== \"__main__\":\n",
    "   main()"
   ]
  },
  {
   "cell_type": "code",
   "execution_count": null,
   "metadata": {},
   "outputs": [],
   "source": []
  },
  {
   "cell_type": "code",
   "execution_count": null,
   "metadata": {},
   "outputs": [],
   "source": [
    "import pandas as pd\n",
    "from openpyxl import load_workbook\n",
    "\n",
    "import time\n",
    "\n",
    "#Manage files and directories\n",
    "import os\n",
    "from os import path"
   ]
  },
  {
   "cell_type": "code",
   "execution_count": null,
   "metadata": {},
   "outputs": [],
   "source": [
    "\n",
    "    w_filenameXLSX='C:\\Users\\Marcos\\Desktop\\Python_ITBA\\My test\\ExcelFile\\''+str('FileName')\n",
    "    print(w_filenameXLSX)\n"
   ]
  },
  {
   "cell_type": "code",
   "execution_count": null,
   "metadata": {},
   "outputs": [],
   "source": [
    "    print (\"File exists:\"+str(path.exists(w_filenameXLSX)))\n",
    "    if  not(path.exists(w_filenameXLSX)):\n",
    "        # Create a Pandas Excel writer using XlsxWriter as the engine.\n",
    "        writer = pd.ExcelWriter(w_filenameXLSX, engine='xlsxwriter')\n",
    "    else:\n",
    "        writer = pd.ExcelWriter(w_filenameXLSX, engine='openpyxl')\n",
    "        # try to open an existing workbook\n",
    "        writer.book = load_workbook(w_filenameXLSX)\n",
    "        # copy existing sheets\n",
    "        writer.sheets = dict((ws.title, ws) for ws in writer.book.worksheets)\n",
    "        # read existing file\n",
    "        reader = pd.read_excel(FileName)\n",
    "        # write out the new sheet\n",
    "    # Close the Pandas Excel writer and output the Excel file.\n",
    "    CFdf.to_excel(writer,sheet_name=sheetname,index=False)\n",
    "    print(\"saved:\"+sheetname)\n",
    "    writer.save()"
   ]
  }
 ],
 "metadata": {
  "kernelspec": {
   "display_name": "Python 3",
   "language": "python",
   "name": "python3"
  },
  "language_info": {
   "codemirror_mode": {
    "name": "ipython",
    "version": 3
   },
   "file_extension": ".py",
   "mimetype": "text/x-python",
   "name": "python",
   "nbconvert_exporter": "python",
   "pygments_lexer": "ipython3",
   "version": "3.7.6"
  }
 },
 "nbformat": 4,
 "nbformat_minor": 4
}
