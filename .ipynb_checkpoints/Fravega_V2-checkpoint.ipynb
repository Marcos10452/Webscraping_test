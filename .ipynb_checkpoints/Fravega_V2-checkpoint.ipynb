{
 "cells": [
  {
   "cell_type": "code",
   "execution_count": null,
   "metadata": {},
   "outputs": [],
   "source": [
    "#Selenium is a web testing library. It is used to automate browser activities.\n",
    "from selenium import webdriver\n",
    "#Beautiful Soup is a Python package for parsing HTML and XML documents. \n",
    "#It creates parse trees that is helpful to extract the data easily.\n",
    "from bs4 import BeautifulSoup\n",
    "import pandas as pd\n",
    "from openpyxl import load_workbook\n",
    "#Manage files and directories\n",
    "import os\n",
    "from os import path"
   ]
  },
  {
   "cell_type": "code",
   "execution_count": null,
   "metadata": {},
   "outputs": [],
   "source": [
    "#Function to detect whether or not the excel file was created\n",
    "def CreateFile(CFdf,sheetname):\n",
    "    print (\"File exists:\"+str(path.exists('Fravega.xlsx')))\n",
    "    if  not(path.exists('Fravega.xlsx')):\n",
    "        # Create a Pandas Excel writer using XlsxWriter as the engine.\n",
    "        writer = pd.ExcelWriter('Fravega.xlsx', engine='xlsxwriter')\n",
    "    else:\n",
    "        writer = pd.ExcelWriter('Fravega.xlsx', engine='openpyxl')\n",
    "        # try to open an existing workbook\n",
    "        writer.book = load_workbook('Fravega.xlsx')\n",
    "        # copy existing sheets\n",
    "        writer.sheets = dict((ws.title, ws) for ws in writer.book.worksheets)\n",
    "        # read existing file\n",
    "        reader = pd.read_excel('Fravega.xlsx')\n",
    "        # write out the new sheet\n",
    "        \n",
    "    # Close the Pandas Excel writer and output the Excel file.\n",
    "    CFdf.to_excel(writer,sheet_name=sheetname,index=False)\n",
    "    print(\"saved:\"+sheetname)\n",
    "    writer.save()"
   ]
  },
  {
   "cell_type": "markdown",
   "metadata": {},
   "source": [
    "# Active Chrome with chromedriver"
   ]
  },
  {
   "cell_type": "code",
   "execution_count": null,
   "metadata": {},
   "outputs": [],
   "source": [
    "#Check vulnerability in port 9515 due to selenium"
   ]
  },
  {
   "cell_type": "code",
   "execution_count": null,
   "metadata": {},
   "outputs": [],
   "source": [
    "driver = webdriver.Chrome(\"C:\\ChromeDriver\\chromedriver.exe\")"
   ]
  },
  {
   "cell_type": "code",
   "execution_count": null,
   "metadata": {},
   "outputs": [],
   "source": [
    "# selecting brands"
   ]
  },
  {
   "cell_type": "code",
   "execution_count": null,
   "metadata": {},
   "outputs": [],
   "source": [
    "brands=['lavado','tv-y-video%2Ftv','celulares%2Fcelulares-liberados','heladeras-freezers-y-cavas']"
   ]
  },
  {
   "cell_type": "code",
   "execution_count": null,
   "metadata": {},
   "outputs": [],
   "source": []
  },
  {
   "cell_type": "code",
   "execution_count": null,
   "metadata": {},
   "outputs": [],
   "source": [
    "#1st stage, looking for brands\n",
    "for NextBrand in brands:\n",
    "    \n",
    "    products=[] #List to store name of the product\n",
    "    prices=[] #List to store price of the product\n",
    "    UrlAux=\"https://www.fravega.com/l/?categorias=\"+NextBrand\n",
    "    driver.get(UrlAux)\n",
    "    content = driver.page_source\n",
    "    soup = BeautifulSoup(content)\n",
    "    \n",
    "   # print(soup.find('ul',attrs={'class':'andes-pagination'}).prettify())\n",
    "    TotalNum=-1\n",
    "    if bool(soup.find('ul',attrs={'class':'ant-pagination'}))==True:\n",
    "        PagNum=soup.find('ul',attrs={'class':'ant-pagination'})\n",
    "        TotalNum=len(PagNum.findAll('a'))-2\n",
    "\n",
    "    #TotalNum has the total number of how many pages are. every page has 48 elements\n",
    "    #If TotalNum=0 means that all products are in one page only.\n",
    "    if TotalNum<0:\n",
    "        TotalNum=1\n",
    "    print(TotalNum)\n",
    "    #2nd stage, to browse in all pages more then 48 products each.\n",
    "    for i in  range(TotalNum):\n",
    "        if i>0 :\n",
    "            # Creating the URL based on informartion from web page\n",
    "            UrlAux=\"https://www.fravega.com/l/?categorias=\"+NextBrand+\"&page=\"+str(i+1)\n",
    "            driver.get(UrlAux)\n",
    "            content = driver.page_source\n",
    "            soup = BeautifulSoup(content)\n",
    "\n",
    "        print(UrlAux)\n",
    "        #print( soup.findAll('section',attrs={'class':'results grid'}))\n",
    "        #3rd  stage, looking for name and price\n",
    "        for a in soup.findAll('div',attrs={'class':'ProductCard__Card-sc-1w5guu7-2 hlRWOw'}):\n",
    "            name=a.find('h4', attrs={'class':'PieceTitle-sc-1eg7yvt-0 kBpjJs'})\n",
    "            price=a.find('span', attrs={'class':'SalePrice-sc-17gadvb-0 zPyqj'})\n",
    "            products.append(name.text)\n",
    "            prices.append(price.text)\n",
    "        #print(products)\n",
    "    df=pd.DataFrame({'Product Name':products,'Price':prices}) \n",
    "\n",
    "    CreateFile(df,NextBrand)\n",
    "\n",
    "driver.quit()"
   ]
  },
  {
   "cell_type": "code",
   "execution_count": null,
   "metadata": {},
   "outputs": [],
   "source": []
  }
 ],
 "metadata": {
  "kernelspec": {
   "display_name": "Python 3",
   "language": "python",
   "name": "python3"
  },
  "language_info": {
   "codemirror_mode": {
    "name": "ipython",
    "version": 3
   },
   "file_extension": ".py",
   "mimetype": "text/x-python",
   "name": "python",
   "nbconvert_exporter": "python",
   "pygments_lexer": "ipython3",
   "version": "3.7.6"
  }
 },
 "nbformat": 4,
 "nbformat_minor": 4
}
