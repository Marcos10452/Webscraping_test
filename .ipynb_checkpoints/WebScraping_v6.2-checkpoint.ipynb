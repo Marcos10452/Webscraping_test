{
 "cells": [
  {
   "cell_type": "code",
   "execution_count": 12,
   "metadata": {},
   "outputs": [],
   "source": [
    "#Selenium is a web testing library. It is used to automate browser activities.\n",
    "from selenium import webdriver\n",
    "#from selenium.webdriver.common.by import By\n",
    "#from selenium.webdriver.support.ui import WebDriverWait\n",
    "#from selenium.webdriver.support import expected_conditions as EC\n",
    "#Beautiful Soup is a Python package for parsing HTML and XML documents. \n",
    "#It creates parse trees that is helpful to extract the data easily.\n",
    "from bs4 import BeautifulSoup\n",
    "import pandas as pd\n",
    "import numpy as np\n",
    "\n",
    "#ATENTION: xlsxwirter & xlrd must be added as library from Anaconda\n",
    "from openpyxl import load_workbook\n",
    "\n",
    "import time\n",
    "import datetime\n",
    "\n",
    "#Manage files and directories\n",
    "import os\n",
    "from os import path"
   ]
  },
  {
   "cell_type": "code",
   "execution_count": 63,
   "metadata": {},
   "outputs": [],
   "source": [
    "#Function to detect whether or not the excel file was created\n",
    "def CreateFile(CFdf,ChangeDateFile,sheetname):\n",
    "    w_filenameXLSX='/home/marcos/Desktop/Python_ITBA/My test/ExcelFile/Web-Scraping_V6.2_'+ChangeDateFile+'.xlsx'\n",
    "    print (\"File exists:\"+str(path.exists(w_filenameXLSX)))\n",
    "    if  not(path.exists(w_filenameXLSX)):\n",
    "        # Create a Pandas Excel writer using XlsxWriter as the engine.\n",
    "        writer = pd.ExcelWriter(w_filenameXLSX, engine='xlsxwriter')\n",
    "    else:\n",
    "        writer = pd.ExcelWriter(w_filenameXLSX, engine='openpyxl')\n",
    "        # try to open an existing workbook\n",
    "        writer.book = load_workbook(w_filenameXLSX)\n",
    "        # copy existing sheets\n",
    "        writer.sheets = dict((ws.title, ws) for ws in writer.book.worksheets)\n",
    "        # read existing file\n",
    "        reader = pd.read_excel(w_filenameXLSX)\n",
    "        # write out the new sheet\n",
    "    # Close the Pandas Excel writer and output the Excel file.\n",
    "    CFdf.to_excel(writer,sheet_name=sheetname,index=False)\n",
    "    print(\"saved:\"+sheetname)\n",
    "    writer.save()"
   ]
  },
  {
   "cell_type": "code",
   "execution_count": 64,
   "metadata": {},
   "outputs": [],
   "source": [
    "def FindBrand (StringToFind,DictionaryB):\n",
    "    BoolTest=False\n",
    "    for word in StringToFind.replace(\"\\n\", \"\").split():\n",
    "        for BrandCheck in DictionaryB:\n",
    "            if ((word.upper())==BrandCheck) and (BoolTest==False):\n",
    "                return(DictionaryB[word.upper()])\n",
    "                BoolTest=True\n",
    "    if BoolTest==False:\n",
    "        return('NONE')"
   ]
  },
  {
   "cell_type": "code",
   "execution_count": 65,
   "metadata": {},
   "outputs": [],
   "source": [
    "    # selecting brands"
   ]
  },
  {
   "cell_type": "markdown",
   "metadata": {},
   "source": [
    "Array=[\n",
    "\n",
    "\n",
    "        ['Falabella',{'cat10178/Smart-TV':'TV','cat20012/Celulares':'Celulares','cat140020/Heladeras':\n",
    "                  'Heladeras','cat140022/Lavasecarropas':'Lavaseca','cat10076/Lavarropas':'WM'}],\n",
    "    \n",
    "      \n",
    "    ]\n",
    "    "
   ]
  },
  {
   "cell_type": "code",
   "execution_count": 66,
   "metadata": {},
   "outputs": [],
   "source": [
    "Array=[ \n",
    "        ['Claro',{'https://tienda.claro.com.ar/':'Celulares'}],\n",
    " \n",
    "        ['Movistar',{'https://tienda.movistar.com.ar/':'Celulares'}],\n",
    "     \n",
    "        ['Personal',{'https://tienda.personal.com.ar/equipos/':'Celulares'}],\n",
    "\n",
    "        ['Castillo',{'televisores/tvs/':'TV','listado/refrigeracion/':'Heladeras','listado/lavado/':'WM'}],\n",
    "  \n",
    "        ['Cetrogar',{'tecnologia/celulares-accesorios.html?p=':'Celulares','tecnologia/tv-video.html?p=':'TV', \n",
    "                    'electrodomesticos/heladeras-y-freezers.html?p=':'Heladeras'}],\n",
    "    \n",
    "        ['Musimundo',{'audio-tv-video/televisores/c/57?q=%3':'TV','climatizacion/aire-acondicionado/c/21?q=%3':\n",
    "                      'AIRE', 'electrohogar/lavarropas/c/147?q=%3':'WM', 'telefonia/telefonos-celulares/c/82?q=%3':\n",
    "                      'Celulares', 'electrohogar/heladeras/c/140?q=%3':'Heladeras'}],\n",
    "    \n",
    "        ['Fravega',{'lavado':'WM','celulares%2Fcelulares-liberados':'Celulares','tv-y-video%2Ftv':'TV',\n",
    "                   'heladeras-freezers-y-cavas':'Heladeras'}],\n",
    "\n",
    "        ['Falabella',{'cat10178/Smart-TV':'TV','cat20012/Celulares':'Celulares','cat140020/Heladeras':\n",
    "                  'Heladeras','cat140022/Lavasecarropas':'Lavaseca','cat10076/Lavarropas':'WM'}],\n",
    "    \n",
    "        ['Rodo',{'imagen-sonido/televisores':'TV','climatizacion/aires-acondicionado/aires-acondicionados-split':'Aire','electro-hogar/heladeras':'Heladeras',\n",
    "        'electro-hogar/lavado-y-secado/lavarropas-automatico':'WM'}],\n",
    "    \n",
    "        ['Carrefour',{'televisores/led-tv-y-smart-tv.html':'TV','electrohogar/heladeras-freezers-y-cavas.html':\n",
    "                      'Heladeras','celulares/celulares-libres.html':'Celulares'}],\n",
    "    \n",
    "        ['Pardo',{'tv-y-video/televisores/televisores-smart':'TV','electrohogar/heladeras-y-freezers':'Heladeras',\n",
    "                  'telefonia/celulares':'Celulares','climatizacion-y-agua-caliente/aires-acondicionados':'Aires','electrohogar/lavado':'WM'}],\n",
    "    \n",
    "        ['Naldo',{'TECNOLOGIA/Televisores-y-Video/Tv-Led-y-Smart-TV/c/100':'TV','ELECTRODOMESTICOS/Heladera-y-Freezers/Heladera/Heladeras-con-Freezer/c/2200':'Heladeras'\n",
    "                 ,'TECNOLOGIA/Telefonia/Celulares/c/120':'Celulares','ELECTRODOMESTICOS/Lavado/Lavarropas/c/260':'WM'}]\n",
    "    ]"
   ]
  },
  {
   "cell_type": "code",
   "execution_count": 67,
   "metadata": {},
   "outputs": [],
   "source": [
    "DictBrands={'ALCATEL':'ALCATEL','AURORA':'AURORA','ATMA':'ATMA','ARISTON':'ARISTON','ADMIRAL':'ADMIRAL','AOC':'AOC','BEKO':'BEKO','BGH':'BGH','BOSCH':'BOSCH',\n",
    "             'BRIKET':'BRIKET','CANDY':'CANDY','COLUMBIA':'COLUMBIA','DIPLOMATIC':'DIPLOMATIC','DREAN':'DREAN','ESLABON':'ESLABON DE LUJO','ELECTROLUX':'ELECTROLUX',\n",
    "             'ENERGIZER':'ENERGIZER','GAFA':'GAFA','GE':'GE','HISENSE':'HISENSE','HITACHI':'HITACHI','HYUNDAI':'HYUNDAI','IPHONE':'IPHONE','JVC':'JVC',\n",
    "             'KEN':'KEN BROWN','KOH-I-NOOR':'KOH-I-NOOR','LG':'LG','LILIANA':'LILIANA','LONGVIE':'LONGVIE','MIDEA':'MIDEA','MODDO':'MODDO','MOTO':'MOTOROLA',\n",
    "             'MOTOROLA':'MOTOROLA','MOULINEX':'MOULINEX','NOBLEX':'NOBLEX','NOKIA':'NOKIA','PATRICK':'PATRICK','PEABODY':'PEABODY','PHILCO':'PHILCO',\n",
    "             'PHILIPS':'PHILIPS','SAIAR':'SAIAR','SAMSUNG':'SAMSUNG','SANSEI':'SANSEI','SANYO':'SANYO','SHARP':'SHARP','SIAM':'SIAM','SONY':'SONY','SURREY':'SURREY','ORBIS':'ORBIS',\n",
    "             'OSTER':'OSTER','PANASONIC':'PANASONIC','PATRIOT':'PATRIOT','QUANTIC':'QUANTIC','RCA':'RCA','RHEEM':'RHEEM','TALENT':'TALENT','TELEFUNKEN':'TELEFUNKEN','TOSHIBA':'TOSHIBA',\n",
    "             'TCL':'TCL','ULTRACOMB':'ULTRACOMB','VEAH':'VEAH','VONDOM':'VONDOM','WHIRLPOOL':'WHIRLPOOL','ZTE':'ZTE','ZENITH':'ZENITH'}"
   ]
  },
  {
   "cell_type": "code",
   "execution_count": 68,
   "metadata": {},
   "outputs": [],
   "source": [
    "#Function to generate URL\n",
    "def URLgenerate(DealerName,AuxText,URLInd,IndexNumber):\n",
    "    \n",
    "    if  (DealerName=='Claro'):\n",
    "        if (URLInd=='URL1'):\n",
    "            return(\"https://tienda.claro.com.ar/#facet:&productBeginIndex:\"+str(IndexNumber*12)+\"&orderBy:6&pageView:grid&minPrice:&maxPrice:&pageSize:&\")\n",
    "        else:\n",
    "            return(\"https://tienda.claro.com.ar/#facet:&productBeginIndex:\"+str(IndexNumber*12)+\"&orderBy:6&pageView:grid&minPrice:&maxPrice:&pageSize:&\")\n",
    "    \n",
    "    elif  DealerName=='Movistar':\n",
    "        if (URLInd=='URL1'):\n",
    "            return(\"https://tienda.movistar.com.ar/?adgroupid=58700004606889709&aux_utm_campaign=GS+-+Brand+-+Tienda+Movistar+-+72460&ds_e_adid=330789885539&ds_e_device=c&ds_e_matchtype=search&ds_e_network=g&ds_s_kwgid=58700004606889709&ds_url_v=2&gclid=EAIaIQobChMI3KGg7e_Z6AIVjYORCh0tVgZMEAAYASAAEgLmLvD_BwE&gclsrc=aw.ds&keyword=p38771900175&lid=43700038771900175&p=\"+str(IndexNumber+1))\n",
    "        else:\n",
    "            return(\"https://tienda.movistar.com.ar/?adgroupid=58700004606889709&aux_utm_campaign=GS+-+Brand+-+Tienda+Movistar+-+72460&ds_e_adid=330789885539&ds_e_device=c&ds_e_matchtype=search&ds_e_network=g&ds_s_kwgid=58700004606889709&ds_url_v=2&gclid=EAIaIQobChMI3KGg7e_Z6AIVjYORCh0tVgZMEAAYASAAEgLmLvD_BwE&gclsrc=aw.ds&keyword=p38771900175&lid=43700038771900175&p=\"+str(IndexNumber+1))\n",
    "   \n",
    "    elif  DealerName=='Personal':\n",
    "        if (URLInd=='URL1'):\n",
    "            return(\"https://tienda.personal.com.ar/equipos\")\n",
    "        else:\n",
    "            return(\"https://tienda.personal.com.ar/equipos/?PageNumber=\"+str((IndexNumber)+1))\n",
    "    elif  DealerName=='Castillo':\n",
    "        if (URLInd=='URL1'):\n",
    "            return(\"https://www.castillo.com.ar/\"+AuxText)\n",
    "        else:\n",
    "            return(\"https://www.castillo.com.ar/\"+AuxText+\"_Desde_\"+str((IndexNumber*50)+1))\n",
    "    elif  (DealerName=='Cetrogar'):\n",
    "        if (URLInd=='URL1'):\n",
    "            return(\"https://www.cetrogar.com.ar/\"+AuxText+str(1+IndexNumber))\n",
    "        else:\n",
    "            return(\"https://www.cetrogar.com.ar/\"+AuxText+str(1+IndexNumber))\n",
    "    elif  DealerName=='Fravega':\n",
    "        if (URLInd=='URL1'):\n",
    "            return(\"https://www.fravega.com/l/?categorias=\"+AuxText+\"&page=\"+str(IndexNumber+1))\n",
    "        else:\n",
    "            return(\"https://www.fravega.com/l/?categorias=\"+AuxText+\"&page=\"+str(IndexNumber+1))\n",
    "    elif  DealerName=='Musimundo':\n",
    "        if (URLInd=='URL1'):\n",
    "            return(\"https://www.musimundo.com/\"+AuxText+\"Arelevance&page=\"+str(IndexNumber))\n",
    "        else:\n",
    "            return(\"https://www.musimundo.com/\"+AuxText+\"Arelevance&page=\"+str(IndexNumber))\n",
    "    elif  DealerName=='Falabella':\n",
    "        if (URLInd=='URL1'):\n",
    "            return(\"https://www.falabella.com.ar/falabella-ar/category/\"+AuxText)\n",
    "        else:\n",
    "            return(\"https://www.falabella.com.ar/falabella-ar/category/\"+AuxText+\"?page=\"+str(IndexNumber+1))\n",
    "    elif  DealerName=='Rodo':\n",
    "        if (URLInd=='URL1'):\n",
    "            return(\"https://rodo.com.ar/productos/\"+AuxText+\".html?___SID=U&p=\"+str(IndexNumber+1))\n",
    "        else:\n",
    "            return(\"https://rodo.com.ar/productos/\"+AuxText+\".html?___SID=U&p=\"+str(IndexNumber+1))\n",
    "    elif  DealerName=='Carrefour':\n",
    "        if (URLInd=='URL1'):\n",
    "            return(\"https://www.carrefour.com.ar/\"+AuxText)\n",
    "        else:\n",
    "            return(\"https://www.carrefour.com.ar/\"+AuxText)\n",
    "    elif  DealerName=='Pardo':\n",
    "        if (URLInd=='URL1'):\n",
    "            return(\"https://www.pardo.com.ar/\"+AuxText+\"#\"+str(IndexNumber+1))\n",
    "        else:\n",
    "            return(\"https://www.pardo.com.ar/\"+AuxText+\"#\"+str(IndexNumber+1))\n",
    "    elif  DealerName=='Naldo':\n",
    "        if (URLInd=='URL1'):\n",
    "            return(\"https://www.naldo.com.ar/GENERAL/\"+AuxText+\"?q=%3Arelevance&page=\"+str(IndexNumber))\n",
    "        else:\n",
    "            return(\"https://www.naldo.com.ar/GENERAL/\"+AuxText+\"?q=%3Arelevance&page=\"+str(IndexNumber))\n",
    "    "
   ]
  },
  {
   "cell_type": "code",
   "execution_count": 71,
   "metadata": {},
   "outputs": [
    {
     "name": "stdout",
     "output_type": "stream",
     "text": [
      "10\n",
      "0\n",
      "https://tienda.claro.com.ar/#facet:&productBeginIndex:0&orderBy:6&pageView:grid&minPrice:&maxPrice:&pageSize:&\n",
      "<input autocomplete=\"off\" id=\"ProductInfoPrice_Widget_CatalogEntryList_CategoryPage73969\" type=\"hidden\" value=\"$129.999\"/>\n",
      "None\n",
      "<input autocomplete=\"off\" id=\"ProductInfoPrice_Widget_CatalogEntryList_CategoryPage74454\" type=\"hidden\" value=\"$95.999\"/>\n",
      "None\n",
      "<input autocomplete=\"off\" id=\"ProductInfoPrice_Widget_CatalogEntryList_CategoryPage73967\" type=\"hidden\" value=\"$109.999\"/>\n",
      "None\n",
      "<input autocomplete=\"off\" id=\"ProductInfoPrice_Widget_CatalogEntryList_CategoryPage73451\" type=\"hidden\" value=\"$129.999\"/>\n",
      "None\n",
      "<input autocomplete=\"off\" id=\"ProductInfoPrice_Widget_CatalogEntryList_CategoryPage75451\" type=\"hidden\" value=\"$19.999\"/>\n",
      "None\n",
      "<input autocomplete=\"off\" id=\"ProductInfoPrice_Widget_CatalogEntryList_CategoryPage67451\" type=\"hidden\" value=\"$30.499\"/>\n",
      "None\n",
      "<input autocomplete=\"off\" id=\"ProductInfoPrice_Widget_CatalogEntryList_CategoryPage62663\" type=\"hidden\" value=\"$15.999\"/>\n",
      "None\n",
      "<input autocomplete=\"off\" id=\"ProductInfoPrice_Widget_CatalogEntryList_CategoryPage62672\" type=\"hidden\" value=\"$33.099\"/>\n",
      "None\n",
      "<input autocomplete=\"off\" id=\"ProductInfoPrice_Widget_CatalogEntryList_CategoryPage62653\" type=\"hidden\" value=\"$12.999\"/>\n",
      "None\n",
      "<input autocomplete=\"off\" id=\"ProductInfoPrice_Widget_CatalogEntryList_CategoryPage72954\" type=\"hidden\" value=\"$41.499\"/>\n",
      "None\n",
      "<input autocomplete=\"off\" id=\"ProductInfoPrice_Widget_CatalogEntryList_CategoryPage72454\" type=\"hidden\" value=\"$24.499\"/>\n",
      "None\n",
      "<input autocomplete=\"off\" id=\"ProductInfoPrice_Widget_CatalogEntryList_CategoryPage62669\" type=\"hidden\" value=\"$28.999\"/>\n",
      "None\n",
      "<img alt=\"\" id=\"shoppingListItemAddedImg\"/>\n",
      "None\n",
      "1\n",
      "URL2\n",
      "https://tienda.claro.com.ar/#facet:&productBeginIndex:12&orderBy:6&pageView:grid&minPrice:&maxPrice:&pageSize:&\n",
      "<input id=\"ProductInfoPrice_Widget_CatalogEntryList_CategoryPage72451\" type=\"hidden\" value=\"$20.199\"/>\n",
      "None\n",
      "<input id=\"ProductInfoPrice_Widget_CatalogEntryList_CategoryPage62607\" type=\"hidden\" value=\"$11.199\"/>\n",
      "None\n",
      "<input id=\"ProductInfoPrice_Widget_CatalogEntryList_CategoryPage62901\" type=\"hidden\" value=\"$49.899\"/>\n",
      "None\n",
      "<input id=\"ProductInfoPrice_Widget_CatalogEntryList_CategoryPage63459\" type=\"hidden\" value=\"$98.499\"/>\n",
      "None\n",
      "<input id=\"ProductInfoPrice_Widget_CatalogEntryList_CategoryPage62862\" type=\"hidden\" value=\"$79.999\"/>\n",
      "None\n",
      "<input id=\"ProductInfoPrice_Widget_CatalogEntryList_CategoryPage63455\" type=\"hidden\" value=\"$113.499\"/>\n",
      "None\n",
      "<input id=\"ProductInfoPrice_Widget_CatalogEntryList_CategoryPage62895\" type=\"hidden\" value=\"$17.699\"/>\n",
      "None\n",
      "<input id=\"ProductInfoPrice_Widget_CatalogEntryList_CategoryPage62666\" type=\"hidden\" value=\"$10.299\"/>\n",
      "None\n",
      "<input id=\"ProductInfoPrice_Widget_CatalogEntryList_CategoryPage66951\" type=\"hidden\" value=\"$23.999\"/>\n",
      "None\n",
      "<input id=\"ProductInfoPrice_Widget_CatalogEntryList_CategoryPage62867\" type=\"hidden\" value=\"$71.299\"/>\n",
      "None\n",
      "<input id=\"ProductInfoPrice_Widget_CatalogEntryList_CategoryPage62871\" type=\"hidden\" value=\"$64.399\"/>\n",
      "None\n",
      "<input id=\"ProductInfoPrice_Widget_CatalogEntryList_CategoryPage65951\" type=\"hidden\" value=\"$17.999\"/>\n",
      "None\n",
      "<img alt=\"\" id=\"shoppingListItemAddedImg\"/>\n",
      "None\n",
      "2\n",
      "URL2\n",
      "https://tienda.claro.com.ar/#facet:&productBeginIndex:24&orderBy:6&pageView:grid&minPrice:&maxPrice:&pageSize:&\n",
      "<input id=\"ProductInfoPrice_Widget_CatalogEntryList_CategoryPage74951\" type=\"hidden\" value=\"$15.599\"/>\n",
      "None\n",
      "<input id=\"ProductInfoPrice_Widget_CatalogEntryList_CategoryPage71951\" type=\"hidden\" value=\"$13.699\"/>\n",
      "None\n",
      "<input id=\"ProductInfoPrice_Widget_CatalogEntryList_CategoryPage72951\" type=\"hidden\" value=\"$14.999\"/>\n",
      "None\n",
      "<input id=\"ProductInfoPrice_Widget_CatalogEntryList_CategoryPage66451\" type=\"hidden\" value=\"$33.999\"/>\n",
      "None\n",
      "<input id=\"ProductInfoPrice_Widget_CatalogEntryList_CategoryPage64451\" type=\"hidden\" value=\"$23.999\"/>\n",
      "None\n",
      "<input id=\"ProductInfoPrice_Widget_CatalogEntryList_CategoryPage67951\" type=\"hidden\" value=\"$31.999\"/>\n",
      "None\n",
      "<input id=\"ProductInfoPrice_Widget_CatalogEntryList_CategoryPage62676\" type=\"hidden\" value=\"$35.999\"/>\n",
      "None\n",
      "<input id=\"ProductInfoPrice_Widget_CatalogEntryList_CategoryPage62898\" type=\"hidden\" value=\"$21.999\"/>\n",
      "None\n",
      "<input id=\"ProductInfoPrice_Widget_CatalogEntryList_CategoryPage62879\" type=\"hidden\" value=\"$11.899\"/>\n",
      "None\n",
      "<input id=\"ProductInfoPrice_Widget_CatalogEntryList_CategoryPage62656\" type=\"hidden\" value=\"$36.999\"/>\n",
      "None\n",
      "<input id=\"ProductInfoPrice_Widget_CatalogEntryList_CategoryPage73951\" type=\"hidden\" value=\"$134.999\"/>\n",
      "None\n",
      "<input id=\"ProductInfoPrice_Widget_CatalogEntryList_CategoryPage62537\" type=\"hidden\" value=\"$93.999\"/>\n",
      "None\n",
      "<img alt=\"\" id=\"shoppingListItemAddedImg\"/>\n",
      "None\n",
      "3\n",
      "URL2\n"
     ]
    },
    {
     "ename": "KeyboardInterrupt",
     "evalue": "",
     "output_type": "error",
     "traceback": [
      "\u001b[0;31m---------------------------------------------------------------------------\u001b[0m",
      "\u001b[0;31mKeyboardInterrupt\u001b[0m                         Traceback (most recent call last)",
      "\u001b[0;32m<ipython-input-71-3cc3c3054539>\u001b[0m in \u001b[0;36m<module>\u001b[0;34m\u001b[0m\n\u001b[1;32m     81\u001b[0m                 \u001b[0mprint\u001b[0m\u001b[0;34m(\u001b[0m\u001b[0;34m'URL2'\u001b[0m\u001b[0;34m)\u001b[0m\u001b[0;34m\u001b[0m\u001b[0;34m\u001b[0m\u001b[0m\n\u001b[1;32m     82\u001b[0m                 \u001b[0mUrlAux\u001b[0m\u001b[0;34m=\u001b[0m\u001b[0mURLgenerate\u001b[0m\u001b[0;34m(\u001b[0m\u001b[0mArray\u001b[0m\u001b[0;34m[\u001b[0m\u001b[0mSuperArray\u001b[0m\u001b[0;34m]\u001b[0m\u001b[0;34m[\u001b[0m\u001b[0;36m0\u001b[0m\u001b[0;34m]\u001b[0m\u001b[0;34m,\u001b[0m\u001b[0mNextBrand\u001b[0m\u001b[0;34m,\u001b[0m\u001b[0;34m'URL2'\u001b[0m\u001b[0;34m,\u001b[0m\u001b[0mi\u001b[0m\u001b[0;34m)\u001b[0m\u001b[0;34m\u001b[0m\u001b[0;34m\u001b[0m\u001b[0m\n\u001b[0;32m---> 83\u001b[0;31m                 \u001b[0mtime\u001b[0m\u001b[0;34m.\u001b[0m\u001b[0msleep\u001b[0m\u001b[0;34m(\u001b[0m\u001b[0;36m1\u001b[0m\u001b[0;34m)\u001b[0m\u001b[0;34m\u001b[0m\u001b[0;34m\u001b[0m\u001b[0m\n\u001b[0m\u001b[1;32m     84\u001b[0m                 \u001b[0mdriver\u001b[0m\u001b[0;34m.\u001b[0m\u001b[0mget\u001b[0m\u001b[0;34m(\u001b[0m\u001b[0mUrlAux\u001b[0m\u001b[0;34m)\u001b[0m\u001b[0;34m\u001b[0m\u001b[0;34m\u001b[0m\u001b[0m\n\u001b[1;32m     85\u001b[0m                 \u001b[0mtime\u001b[0m\u001b[0;34m.\u001b[0m\u001b[0msleep\u001b[0m\u001b[0;34m(\u001b[0m\u001b[0;36m1\u001b[0m\u001b[0;34m)\u001b[0m\u001b[0;34m\u001b[0m\u001b[0;34m\u001b[0m\u001b[0m\n",
      "\u001b[0;31mKeyboardInterrupt\u001b[0m: "
     ]
    }
   ],
   "source": [
    "# Give the location of the file \n",
    "excelpath = \"/home/marcos/Desktop/Python_ITBA/My test/HTML TREE DOM_V2.xlsx\"\n",
    "\n",
    "\n",
    "for SuperArray in range(len(Array)):\n",
    "    CategoryType=Array[SuperArray][1]\n",
    "    \n",
    "    #Define today\n",
    "    x = datetime.datetime.now()\n",
    "    TodayDate=x.strftime(\"%Y\"+'-'+\"%m\"+'-'+\"%d\")\n",
    "\n",
    "\n",
    "    # Active Chrome with chromedriver\n",
    "    #Check vulnerability in port 9515 due to selenium\n",
    "    driver = webdriver.Chrome(\"/home/marcos/Desktop/Python_ITBA/Chromedrive/chromedriver\")\n",
    "    \n",
    "    NowDate=[]\n",
    "    Category=[]\n",
    "    Brand=[]\n",
    "    products=[] #List to store name of the product\n",
    "    PriceList=[]\n",
    "    Discount=[]\n",
    "    prices=[] #List to store price of the product\n",
    "       \n",
    "    Position=[] #List of position\n",
    "    PageN=[] #List of pages\n",
    "    TotalNum=10\n",
    "    #1st stage, looking for brands\n",
    "    \n",
    "    # Get workbook active sheet object \n",
    "    # from the active attribute \n",
    "    #sheet_obj = wb_obj.active \n",
    "    # To open the workbook  \n",
    "    # workbook object is created \n",
    "    ExcelData=[]\n",
    "    wb_obj = load_workbook(excelpath) \n",
    "    sheet_obj=wb_obj[Array[SuperArray][0]]\n",
    "    #cell_obj = sheet_obj.cell(row = 1, column = 1)\n",
    "    for value in sheet_obj.iter_rows(min_row=4, max_row=120,min_col=2,max_col=7,values_only=True):\n",
    "        ExcelData.append(value)\n",
    "            #print(value)\n",
    "    ExcelData=np.array(ExcelData)\n",
    "    ExcelData.flatten()\n",
    "\n",
    "    for NextBrand in CategoryType:\n",
    "\n",
    "        UrlAux=URLgenerate(Array[SuperArray][0],NextBrand,'URL1',0) \n",
    "        \n",
    "        driver.get(UrlAux)\n",
    "        time.sleep(1)\n",
    "        content = driver.page_source\n",
    "        time.sleep(1)\n",
    "        soup = BeautifulSoup(content)\n",
    "        time.sleep(1)\n",
    "\n",
    "        \"\"\"   \n",
    "        \n",
    "        # print(soup.find('ul',attrs={'class':'andes-pagination'}).prettify())\n",
    "        TotalNum=-1\n",
    "        print(bool(soup.find(FindPages,attrs={'class':ClassFindPager})))\n",
    "        if bool(soup.find(FindPages,attrs={'class':ClassFindPager}))==True:\n",
    "            PagNum=soup.find(FindPages,attrs={'class':ClassFindPager})\n",
    "            #print(PagNum)\n",
    "            #TotalNum=len(PagNum.findAll(CountPages))-1\n",
    "            TotalNum=len(PagNum.findAll(CountPages))-1\n",
    "            print(CountPages)\n",
    "\n",
    "        #TotalNum has the total number of how many pages are. every page has 48 elements\n",
    "        #If TotalNum=0 means that all products are in one page only.\n",
    "        if TotalNum<0:\n",
    "            TotalNum=1\n",
    "        \"\"\"    \n",
    "        TotalNum=10\n",
    "        print(TotalNum)\n",
    "    \n",
    "        #2nd stage, to browse in all pages more then 48 products each.\n",
    "        for i in  range(TotalNum):\n",
    "            print(i)\n",
    "            if i>0 :\n",
    "                # Creating the URL based on informartion from web page\n",
    "                print('URL2')\n",
    "                UrlAux=URLgenerate(Array[SuperArray][0],NextBrand,'URL2',i) \n",
    "                time.sleep(1)\n",
    "                driver.get(UrlAux)\n",
    "                time.sleep(1)\n",
    "                content = driver.page_source\n",
    "                time.sleep(1)\n",
    "                soup = BeautifulSoup(content)\n",
    "                time.sleep(1)\n",
    "           \n",
    "\n",
    "            print(UrlAux)\n",
    "            #print(\"div: \"+str(FindAllType))\n",
    "            #print(\"class: \"+str(FindAllClass))\n",
    "\n",
    "            idPostion=0\n",
    "            ClassType=[ExcelData[0][2],ExcelData[0][4]]\n",
    "            for Level0 in soup.findAll(ExcelData[0][1] ,attrs={'class':ClassType}):\n",
    "                if bool(Level0)==True:\n",
    "                    NowDate.append(TodayDate)\n",
    "                    Category.append(CategoryType[NextBrand])\n",
    "                    \n",
    "                    for Levelinfo in ExcelData:\n",
    "                        if Levelinfo[0]==\"L0\":\n",
    "                            LevelAux=Level0\n",
    "                            #print(\"L0\")\n",
    "                            #print(Levelinfo[1])\n",
    "                            #print(Levelinfo[2])\n",
    "                        elif (Levelinfo[0][0]==\"L\")and (Levelinfo[0]!=\"L0\"):\n",
    "                            if bool(LevelAux.find(Levelinfo[1], attrs={'class':Levelinfo[2]}))==True:\n",
    "                                LevelAux=LevelAux.find(Levelinfo[1], attrs={'class':Levelinfo[2]})\n",
    "                            elif bool(LevelAux.find(Levelinfo[3], attrs={'class':Levelinfo[4]}))==True:\n",
    "                                LevelAux=LevelAux.find(Levelinfo[3], attrs={'class':Levelinfo[4]})\n",
    "                            elif Levelinfo[3]=='NOP':\n",
    "                                print(\"NOP\")\n",
    "                            #print(Levelinfo[0])\n",
    "                            #print(Levelinfo[1])\n",
    "                            #print(Levelinfo[2])\n",
    "                            #print(LevelAux)\n",
    "\n",
    "                        elif Levelinfo[0]==\"BRAND\":\n",
    "                            if bool(LevelAux.find(Levelinfo[1], attrs={'class':Levelinfo[2]}))==True:\n",
    "                                AuxPriceList=LevelAux.find(Levelinfo[1], attrs={'class':Levelinfo[2]})\n",
    "                                Brand.append(AuxPriceList.text.replace(\"\\n\", \"\").replace(\" \", \"\").upper())\n",
    "                            else:\n",
    "                                if len(products)!=0:\n",
    "                                    Brand.append(FindBrand(products[-1],DictBrands))\n",
    "                                else:\n",
    "                                    Brand.append(\"NONE\")\n",
    "                        #Product\n",
    "                        elif Levelinfo[0]==\"PRODUCT\":\n",
    "                            if bool(LevelAux.find(Levelinfo[1], attrs={'class':Levelinfo[2]}))==True:\n",
    "                                AuxPriceList=LevelAux.find(Levelinfo[1], attrs={'class':Levelinfo[2]})\n",
    "                                products.append(AuxPriceList.text.replace(\"\\n\", \"\").upper())\n",
    "                            else:\n",
    "                                products.append(\"NONE\")\n",
    "                        #PriceList\n",
    "                        elif Levelinfo[0]==\"PRICELIST\":\n",
    "                            #print(LevelAux)\n",
    "                            #print(LevelAux.find(Levelinfo[1], attrs={'class':Levelinfo[2]}))\n",
    "                            if bool(LevelAux.find(Levelinfo[1], attrs={'class':Levelinfo[2]}))==True:\n",
    "                                AuxPriceList=LevelAux.find(Levelinfo[1], attrs={'class':Levelinfo[2]})\n",
    "                                PriceList.append(AuxPriceList.text.replace(\"\\n\", \"\").replace(\" \", \"\"))\n",
    "                            else:\n",
    "                                PriceList.append(0)\n",
    "                        #FinalPrice \n",
    "                        elif Levelinfo[0]==\"FINALPRICE\":\n",
    "                            if bool(LevelAux.find(Levelinfo[1], attrs={'class':Levelinfo[2]}))==True:\n",
    "                                AuxPriceList=LevelAux.find(Levelinfo[1], attrs={'class':Levelinfo[2]})\n",
    "                                prices.append(AuxPriceList.text.replace(\"\\n\", \"\").replace(\" \", \"\"))\n",
    "                            else:\n",
    "                                prices.append(0)\n",
    "                        #Discount \n",
    "                        elif Levelinfo[0]==\"DISCOUNT\":\n",
    "                            if bool(LevelAux.find(Levelinfo[1], attrs={'class':Levelinfo[2]}))==True:\n",
    "                                AuxPriceList=LevelAux.find(Levelinfo[1], attrs={'class':Levelinfo[2]})\n",
    "                                Discount.append(AuxPriceList.text.replace(\"\\n\", \"\"))\n",
    "                            else:\n",
    "                                Discount.append(0)\n",
    "\n",
    "                    idPostion+=1\n",
    "                    Position.append(idPostion)\n",
    "                    PageN.append(i+1)\n",
    "    \n",
    "        df=pd.DataFrame({'Date':NowDate,'Category':Category,'Brand':Brand,'Product Name':products,'Price List':PriceList,\n",
    "                    'Price Off':Discount,'Price':prices,'Position':Position,'PageNumber':PageN}) \n",
    "    \n",
    "        #Saving file as dealer and adding the reporting date\n",
    "        CreateFile(df,str(TodayDate),(Array[SuperArray][0]))\n",
    "       \n",
    "\n",
    "    driver.quit()"
   ]
  },
  {
   "cell_type": "code",
   "execution_count": 70,
   "metadata": {},
   "outputs": [],
   "source": [
    "driver.quit()\n"
   ]
  },
  {
   "cell_type": "code",
   "execution_count": null,
   "metadata": {},
   "outputs": [],
   "source": [
    "Array[SuperArray][0]"
   ]
  },
  {
   "cell_type": "code",
   "execution_count": 30,
   "metadata": {},
   "outputs": [
    {
     "data": {
      "text/plain": [
       "True"
      ]
     },
     "execution_count": 30,
     "metadata": {},
     "output_type": "execute_result"
    }
   ],
   "source": [
    "len(products)==0"
   ]
  },
  {
   "cell_type": "code",
   "execution_count": 37,
   "metadata": {},
   "outputs": [
    {
     "data": {
      "text/plain": [
       "12"
      ]
     },
     "execution_count": 37,
     "metadata": {},
     "output_type": "execute_result"
    }
   ],
   "source": [
    "len(products)"
   ]
  },
  {
   "cell_type": "code",
   "execution_count": null,
   "metadata": {},
   "outputs": [],
   "source": [
    "UrlAux"
   ]
  },
  {
   "cell_type": "code",
   "execution_count": null,
   "metadata": {},
   "outputs": [],
   "source": [
    "FindBrand(products[-1],DictBrands)"
   ]
  },
  {
   "cell_type": "code",
   "execution_count": null,
   "metadata": {},
   "outputs": [],
   "source": [
    "ClassType"
   ]
  },
  {
   "cell_type": "code",
   "execution_count": null,
   "metadata": {},
   "outputs": [],
   "source": [
    "print(Levelinfo[0])"
   ]
  },
  {
   "cell_type": "code",
   "execution_count": null,
   "metadata": {},
   "outputs": [],
   "source": [
    "LevelAux"
   ]
  },
  {
   "cell_type": "code",
   "execution_count": null,
   "metadata": {},
   "outputs": [],
   "source": [
    "Levelinfo"
   ]
  },
  {
   "cell_type": "code",
   "execution_count": null,
   "metadata": {},
   "outputs": [],
   "source": [
    "ExcelData"
   ]
  },
  {
   "cell_type": "code",
   "execution_count": 14,
   "metadata": {},
   "outputs": [
    {
     "data": {
      "text/plain": [
       "<div class=\"jsx-1395131234 search-results-list\"><div class=\"jsx-287641535 pod\" data-category=\"J11010304\" data-key=\"3433281\" data-pod=\"catalyst-pod\" id=\"testId-pod-3433281\"><div class=\"jsx-287641535 section-head\"><div class=\"jsx-3185677989\"><a class=\"jsx-3185677989 list-view\" href=\"https://www.falabella.com.ar/falabella-ar/product/3433281/Smart-Tv-43-Full-HD-43LM6300-FHD/3433281\"><img alt='LG - Smart Tv 43\" Full HD 43LM6300 FHD' class=\"jsx-2487856160\" id=\"testId-pod-image-3433281\" src=\"https://falabella.scene7.com/is/image/FalabellaAR/3433281?wid=170&amp;hei=170&amp;qlt=70\" srcset=\"https://falabella.scene7.com/is/image/FalabellaAR/3433281?wid=340&amp;hei=340&amp;qlt=70 2x\"/></a></div></div><a class=\"jsx-287641535 section-body pod-link\" href=\"https://www.falabella.com.ar/falabella-ar/product/3433281/Smart-Tv-43-Full-HD-43LM6300-FHD/3433281\"><div class=\"jsx-287641535 pod-details section-body--left\"><div class=\"jsx-287641535 pod-title-wrapper\"><div class=\"jsx-287641535\"><b class=\"jsx-287641535 title7 secondary jsx-185326735 bold pod-title\">LG</b></div><span style=\"overflow:hidden\"><b class=\"jsx-287641535 title2 primary jsx-185326735 bold pod-subTitle\" id=\"testId-pod-displaySubTitle-3433281\">Smart Tv 43\" Full HD 43LM6300 FHD</b></span><span style=\"overflow:hidden\"><b class=\"jsx-287641535 title4 primary jsx-185326735 normal pod-sellerText\" id=\"testId-pod-displaySellerText-3433281\">Por Falabella</b></span></div><div class=\"jsx-287641535\"><ul class=\"jsx-4018082099 section__pod-bottom-description\"><li class=\"jsx-4018082099\">Tamaño de la pantalla: 43 pulgadas</li><li class=\"jsx-4018082099\">Resolución: Full HD</li><li class=\"jsx-4018082099\">Tecnología: LED</li><li class=\"jsx-4018082099\">Conexión Bluetooth: Sí</li><li class=\"jsx-4018082099\">Entradas USB: 2</li></ul></div></div><div class=\"jsx-287641535 section-body--right\"><div class=\"jsx-1231170568 pod-badges pod-badges-LIST\"><span class=\"jsx-1231170568 copy8 primary jsx-185326735 bold pod-badges-item-LIST pod-badges-item\" id=\"testId-Pod-badges-12 cuotas s/int\" style=\"background-color:#888888;color:#ffffff\">12 cuotas s/int</span></div><div class=\"jsx-2556988298 prices prices-4_GRID\" id=\"testId-pod-prices-3433281\"><ol class=\"jsx-2556988298 ol-4_GRID undefined fa--prices\"><li class=\"jsx-2556988298 price-0\" data-undefined-price=\"32.999\"><div class=\"jsx-2556988298 cmr-icon-container\"><span class=\"copy10 primary high jsx-185326735 normal\" id=\"\">$  32.999<!-- --> <!-- -->Precio</span></div></li><li class=\"jsx-2556988298 price-1\" data-undefined-price=\"35.999\"><div class=\"jsx-2556988298 cmr-icon-container\"><span class=\"copy4 primary jsx-185326735 normal\" id=\"\">$  35.999<!-- --> <!-- -->Precio Anterior</span></div></li></ol></div><ul class=\"jsx-1469255651 shipping-details\"></ul><div class=\"jsx-287641535 pod-action\"><button class=\"jsx-1816208196 button button-primary\" id=\"testId-Pod-action-3433281\" type=\"button\">VER PRODUCTO</button></div></div></a></div></div>"
      ]
     },
     "execution_count": 14,
     "metadata": {},
     "output_type": "execute_result"
    }
   ],
   "source": [
    "Level0"
   ]
  },
  {
   "cell_type": "code",
   "execution_count": 17,
   "metadata": {},
   "outputs": [],
   "source": [
    "LevelAux.find(Levelinfo[1], attrs={'class':Levelinfo[2]})"
   ]
  },
  {
   "cell_type": "code",
   "execution_count": 15,
   "metadata": {},
   "outputs": [
    {
     "data": {
      "text/plain": [
       "'jsx-287641535 title7 secondary jsx-2849163555 bold pod-title'"
      ]
     },
     "execution_count": 15,
     "metadata": {},
     "output_type": "execute_result"
    }
   ],
   "source": [
    "Levelinfo[2]"
   ]
  },
  {
   "cell_type": "code",
   "execution_count": 16,
   "metadata": {},
   "outputs": [
    {
     "data": {
      "text/plain": [
       "'b'"
      ]
     },
     "execution_count": 16,
     "metadata": {},
     "output_type": "execute_result"
    }
   ],
   "source": [
    "Levelinfo[1]"
   ]
  },
  {
   "cell_type": "code",
   "execution_count": 18,
   "metadata": {},
   "outputs": [
    {
     "data": {
      "text/plain": [
       "<div class=\"jsx-287641535\"><b class=\"jsx-287641535 title7 secondary jsx-185326735 bold pod-title\">LG</b></div>"
      ]
     },
     "execution_count": 18,
     "metadata": {},
     "output_type": "execute_result"
    }
   ],
   "source": [
    "LevelAux"
   ]
  },
  {
   "cell_type": "code",
   "execution_count": null,
   "metadata": {},
   "outputs": [],
   "source": []
  }
 ],
 "metadata": {
  "kernelspec": {
   "display_name": "Python 3",
   "language": "python",
   "name": "python3"
  },
  "language_info": {
   "codemirror_mode": {
    "name": "ipython",
    "version": 3
   },
   "file_extension": ".py",
   "mimetype": "text/x-python",
   "name": "python",
   "nbconvert_exporter": "python",
   "pygments_lexer": "ipython3",
   "version": "3.7.7"
  }
 },
 "nbformat": 4,
 "nbformat_minor": 4
}
