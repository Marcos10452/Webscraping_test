{
 "cells": [
  {
   "cell_type": "code",
   "execution_count": 1,
   "metadata": {},
   "outputs": [],
   "source": [
    "#Selenium is a web testing library. It is used to automate browser activities.\n",
    "from selenium import webdriver\n",
    "#from selenium.webdriver.common.by import By\n",
    "#from selenium.webdriver.support.ui import WebDriverWait\n",
    "#from selenium.webdriver.support import expected_conditions as EC\n",
    "#Beautiful Soup is a Python package for parsing HTML and XML documents. \n",
    "#It creates parse trees that is helpful to extract the data easily.\n",
    "from bs4 import BeautifulSoup\n",
    "import pandas as pd\n",
    "from openpyxl import load_workbook\n",
    "\n",
    "import time\n",
    "\n",
    "#Manage files and directories\n",
    "import os\n",
    "from os import path"
   ]
  },
  {
   "cell_type": "code",
   "execution_count": 10,
   "metadata": {},
   "outputs": [],
   "source": [
    "#Function to detect whether or not the excel file was created\n",
    "def CreateFile(CFdf,FileName,sheetname):\n",
    "    print (\"File exists:\"+str(path.exists(FileName)))\n",
    "    if  not(path.exists(FileName)):\n",
    "        # Create a Pandas Excel writer using XlsxWriter as the engine.\n",
    "        writer = pd.ExcelWriter(FileName, engine='xlsxwriter')\n",
    "    else:\n",
    "        writer = pd.ExcelWriter(FileName, engine='openpyxl')\n",
    "        # try to open an existing workbook\n",
    "        writer.book = load_workbook(FileName)\n",
    "        # copy existing sheets\n",
    "        writer.sheets = dict((ws.title, ws) for ws in writer.book.worksheets)\n",
    "        # read existing file\n",
    "        reader = pd.read_excel(FileName)\n",
    "        # write out the new sheet\n",
    "    # Close the Pandas Excel writer and output the Excel file.\n",
    "    CFdf.to_excel(writer,sheet_name=sheetname,index=False)\n",
    "    print(\"saved:\"+sheetname)\n",
    "    writer.save()"
   ]
  },
  {
   "cell_type": "code",
   "execution_count": null,
   "metadata": {},
   "outputs": [],
   "source": []
  },
  {
   "cell_type": "code",
   "execution_count": 3,
   "metadata": {},
   "outputs": [],
   "source": [
    "    # selecting brands"
   ]
  },
  {
   "cell_type": "markdown",
   "metadata": {},
   "source": [
    "Array=[\n",
    "    ['Cetrogar',{'tecnologia/celulares-accesorios.html?p=':'Celulares','tecnologia/tv-video.html?p=':'TV',\n",
    "    'electrodomesticos/heladeras-y-freezers.html?p=':'Heladeras'},'Cetrogar.xlsx','div','pager','li',\"https://www.cetrogar.com.ar/\",'li',\n",
    "    ['item even','item odd'],'h2',['product-name'],'p',['old-price'],'div',['price-badge'],'p',['special-price'],'span',['regular-price'],'span',['numb']],\n",
    "    \n",
    "    ['Fravega',{'lavado':'WM','celulares%2Fcelulares-liberados':'Celulares','tv-y-video%2Ftv':'TV',\n",
    "    'heladeras-freezers-y-cavas':'Heladeras'},'Fravega.xlsx','ul','ant-pagination','a',\"https://www.fravega.com/l/?categorias=\",'div',\n",
    "    ['ProductCard__Card-sc-1w5guu7-2 hlRWOw','item odd'],'h4',['PieceTitle-sc-1eg7yvt-0 kBpjJs'],'span',['ListPrice-sc-1nq6iaq-0 ezHsVN'],\n",
    "     'span',['Discount-sc-51o9d0-0 jVGWkx'],'span',['SalePrice-sc-17gadvb-0 zPyqj'],'span',['SalePrice-sc-17gadvb-0 zPyqj'],'img',['cucardastyles__CucardaImg-sc-83m91z-1 jIlbKW']],\n",
    "\n",
    "    ['mercadolibre',{'lg':'ML_lg','bgh':'ML_bgh','samsung':'ML_samsung','sony':'ML_sony','electrolux':'ML_electrolux'\n",
    "    ,'motorola':'ML_motorola','huawei':'ML_huawei','philips':'ML_philips'},'MercadoLibre_Tienda.xlsx','ul','andes-pagination','a',\"https://tienda.mercadolibre.com.ar/\",\n",
    "     'div',['item__info',' '],'span',['main-title'],'span',['price-old item--is-deal'],'span',['item__discount'],'div',['item__price item__price-discount'],'div',\n",
    "     ['item__price'],'span',['item-installments-text']]\n",
    "            ]"
   ]
  },
  {
   "cell_type": "markdown",
   "metadata": {},
   "source": [
    "Array=[\n",
    "    ['claro',{'https://tienda.claro.com.ar/':'Celulares'},'Claro.xlsx','div','pageControl number','a',\"https://tienda.claro.com.ar/\",'div',\n",
    "    ['product',' '],'div',['product-name-tall'],'span',['old_price'],'div',['price-badge'],'div',['special-price'],'span',['regular_price'],'span',['numb']],\n",
    "    \n",
    "   ['movistar',{'https://tienda.movistar.com.ar/':'Celulares'},'Movistar.xlsx','div','pages','li',\"https://tienda.claro.com.ar/\",'li',\n",
    "    ['item last',' '],'h2',['product-name'],'p',['old_price'],'span',['discount-label'],'p',['special-price'],'span',['regular_price'],'span',['numb']],\n",
    "    \n",
    "    ['personal',{'https://tienda.personal.com.ar/equipos/':'Celulares'},'Personal.xlsx','div','list-store-footer','a',\"https://tienda.claro.com.ar/\",'div',\n",
    "['product-list__wrapper',' '],'h2',['product-list__title font-platform-regular'],'div',['product-list__price--old'],'div',['card__flags-wrapper'],'div',['product-list__price'],'span',['font-platform-regular text-primary'],'div',['card__price--installment-text']]\n",
    "\n",
    "    \n",
    "\n",
    "            ]"
   ]
  },
  {
   "cell_type": "code",
   "execution_count": 4,
   "metadata": {},
   "outputs": [],
   "source": [
    "\n",
    "Array=[ \n",
    "\n",
    "['castillo',{'electronica/':'TV','telefonia/':'Celulares','listado/electrodomesticos/':'HA'},'Castillo.xlsx','div','andes-pagination','li','div',\n",
    "['rowItem item highlighted item--stack new to-item',' '],'h2',['item__title list-view-item-title'],'div',['price-old'],'div',['item__discount '],'div',['item__price item__price-discount','item__price' ],\n",
    " 'span',['font-platform-regular text-primary'],'div',['card__price--installment-text']]\n",
    "\n",
    "\n",
    "        ]"
   ]
  },
  {
   "cell_type": "markdown",
   "metadata": {},
   "source": [
    "#Function to generate URL\n",
    "def URLgenerate(DealerName,AuxText,URLInd,IndexNumber):\n",
    "    \n",
    "    if  (DealerName=='Cetrogar'):\n",
    "        if (URLInd=='URL1'):\n",
    "            return(\"https://www.cetrogar.com.ar/\"+AuxText+str(1+IndexNumber))\n",
    "        else:\n",
    "            return(\"https://www.cetrogar.com.ar/\"+AuxText+str(1+IndexNumber))\n",
    "    elif  DealerName=='Fravega':\n",
    "        if (URLInd=='URL1'):\n",
    "            return(\"https://www.fravega.com/l/?categorias=\"+AuxText+\"&page=\"+str(IndexNumber+1))\n",
    "        else:\n",
    "            return(\"https://www.fravega.com/l/?categorias=\"+AuxText+\"&page=\"+str(IndexNumber+1))\n",
    "    elif  DealerName=='mercadolibre':\n",
    "        if (URLInd=='URL1'):\n",
    "            return(\"https://tienda.mercadolibre.com.ar/\"+AuxText)\n",
    "        else:\n",
    "            return(\"https://listado.mercadolibre.com.ar/_Desde_\"+str((1+((IndexNumber)*48)))+\"_Tienda_\"+AuxText)"
   ]
  },
  {
   "cell_type": "code",
   "execution_count": 5,
   "metadata": {},
   "outputs": [],
   "source": [
    "#Function to generate URL\n",
    "def URLgenerate(DealerName,AuxText,URLInd,IndexNumber):\n",
    "    \n",
    "    if  (DealerName=='claro'):\n",
    "        if (URLInd=='URL1'):\n",
    "            return(\"https://tienda.claro.com.ar/#facet:&productBeginIndex:\"+str(IndexNumber*12)+\"&orderBy:6&pageView:grid&minPrice:&maxPrice:&pageSize:&\")\n",
    "        else:\n",
    "            return(\"https://tienda.claro.com.ar/#facet:&productBeginIndex:\"+str(IndexNumber*12)+\"&orderBy:6&pageView:grid&minPrice:&maxPrice:&pageSize:&\")\n",
    "    \n",
    "    elif  DealerName=='movistar':\n",
    "        if (URLInd=='URL1'):\n",
    "            return(\"https://tienda.movistar.com.ar/?adgroupid=58700004606889709&aux_utm_campaign=GS+-+Brand+-+Tienda+Movistar+-+72460&ds_e_adid=330789885539&ds_e_device=c&ds_e_matchtype=search&ds_e_network=g&ds_s_kwgid=58700004606889709&ds_url_v=2&gclid=EAIaIQobChMI3KGg7e_Z6AIVjYORCh0tVgZMEAAYASAAEgLmLvD_BwE&gclsrc=aw.ds&keyword=p38771900175&lid=43700038771900175&p=\"+str(IndexNumber+1))\n",
    "        else:\n",
    "            return(\"https://tienda.movistar.com.ar/?adgroupid=58700004606889709&aux_utm_campaign=GS+-+Brand+-+Tienda+Movistar+-+72460&ds_e_adid=330789885539&ds_e_device=c&ds_e_matchtype=search&ds_e_network=g&ds_s_kwgid=58700004606889709&ds_url_v=2&gclid=EAIaIQobChMI3KGg7e_Z6AIVjYORCh0tVgZMEAAYASAAEgLmLvD_BwE&gclsrc=aw.ds&keyword=p38771900175&lid=43700038771900175&p=\"+str(IndexNumber+1))\n",
    "   \n",
    "    elif  DealerName=='personal':\n",
    "        if (URLInd=='URL1'):\n",
    "            return(\"https://tienda.personal.com.ar/equipos\")\n",
    "        else:\n",
    "            return(\"https://tienda.personal.com.ar/equipos/?PageNumber=\"+str((IndexNumber)+1))\n",
    "    elif  DealerName=='castillo':\n",
    "        if (URLInd=='URL1'):\n",
    "            return(\"https://www.castillo.com.ar/\"+AuxText)\n",
    "        else:\n",
    "            return(\"https://www.castillo.com.ar/\"+AuxText+\"_Desde_\"+str((IndexNumber*50)+1))"
   ]
  },
  {
   "cell_type": "code",
   "execution_count": 6,
   "metadata": {},
   "outputs": [
    {
     "ename": "SyntaxError",
     "evalue": "EOL while scanning string literal (<ipython-input-6-7f0a98a44128>, line 139)",
     "output_type": "error",
     "traceback": [
      "\u001b[1;36m  File \u001b[1;32m\"<ipython-input-6-7f0a98a44128>\"\u001b[1;36m, line \u001b[1;32m139\u001b[0m\n\u001b[1;33m    CreateFile(df,\"C:\\Users\\Marcos\\Desktop\\Python_ITBA\\My test\\ExcelFile\\\"+ExcelFile,(brands[NextBrand]))\u001b[0m\n\u001b[1;37m                                                                                                         ^\u001b[0m\n\u001b[1;31mSyntaxError\u001b[0m\u001b[1;31m:\u001b[0m EOL while scanning string literal\n"
     ]
    }
   ],
   "source": [
    "for SuperArray in range(len(Array)):\n",
    "    brands=Array[SuperArray][1]\n",
    "\n",
    "\n",
    "    ExcelFile=Array[SuperArray][2]\n",
    "\n",
    "    FindPages=Array[SuperArray][3]\n",
    "\n",
    "    ClassFindPager=Array[SuperArray][4]\n",
    "\n",
    "    CountPages=Array[SuperArray][5] # count how much pages are\n",
    "\n",
    "\n",
    "    #getting product info\n",
    "    FindAllType=Array[SuperArray][6]\n",
    "    FindAllClass=Array[SuperArray][7]\n",
    "\n",
    "    #Getting Name\n",
    "    FindNameType=Array[SuperArray][8]\n",
    "    FindNameClass=Array[SuperArray][9]\n",
    "    \n",
    "    #Getting Price List\n",
    "    FindPriceListType=Array[SuperArray][10]\n",
    "    FindPriceListClass=Array[SuperArray][11]\n",
    "    \n",
    "    #Getting price off\n",
    "    FindPriceOffType=Array[SuperArray][12]\n",
    "    FindPriceOffClass=Array[SuperArray][13]\n",
    "    \n",
    "    #Getting Final Price\n",
    "    NewPriceBoxType=Array[SuperArray][14]\n",
    "    NewPriceBoxClass=Array[SuperArray][16]\n",
    "    FindPriceType=Array[SuperArray][17]\n",
    "    FindPriceClass=Array[SuperArray][18]\n",
    "\n",
    "    #Getting Payterm pattern\n",
    "    FindPaytermType=Array[SuperArray][19]\n",
    "    FindPaytermClass=Array[SuperArray][20]\n",
    "    \n",
    "    Array[SuperArray][11]\n",
    "\n",
    "    # Active Chrome with chromedriver\n",
    "\n",
    "    #Check vulnerability in port 9515 due to selenium\n",
    "\n",
    "\n",
    "\n",
    "    driver = webdriver.Chrome(\"C:\\ChromeDriver\\chromedriver.exe\")\n",
    "    #1st stage, looking for brands\n",
    "    for NextBrand in brands:\n",
    "\n",
    "        products=[] #List to store name of the product\n",
    "        PriceList=[]\n",
    "        Discount=[]\n",
    "        prices=[] #List to store price of the product\n",
    "        Payment=[]\n",
    "        Position=[] #List of position\n",
    "        PageN=[] #List of pages\n",
    "        UrlAux=URLgenerate(Array[SuperArray][0],NextBrand,'URL1',0) \n",
    "        \n",
    "        driver.get(UrlAux)\n",
    "        content = driver.page_source\n",
    "\n",
    "        soup = BeautifulSoup(content)\n",
    "        time.sleep(1)\n",
    "\n",
    "       # print(soup.find('ul',attrs={'class':'andes-pagination'}).prettify())\n",
    "        TotalNum=-1\n",
    "        print(bool(soup.find(FindPages,attrs={'class':ClassFindPager})))\n",
    "        if bool(soup.find(FindPages,attrs={'class':ClassFindPager}))==True:\n",
    "            PagNum=soup.find(FindPages,attrs={'class':ClassFindPager})\n",
    "            print(PagNum)\n",
    "            #TotalNum=len(PagNum.findAll(CountPages))-1\n",
    "            TotalNum=len(PagNum.findAll(CountPages))-1\n",
    "            print(CountPages)\n",
    "\n",
    "        #TotalNum has the total number of how many pages are. every page has 48 elements\n",
    "        #If TotalNum=0 means that all products are in one page only.\n",
    "        if TotalNum<0:\n",
    "            TotalNum=5\n",
    "        print(TotalNum)\n",
    "        #2nd stage, to browse in all pages more then 48 products each.\n",
    "        for i in  range(TotalNum):\n",
    "            print(i)\n",
    "            if i>0 :\n",
    "                # Creating the URL based on informartion from web page\n",
    "                UrlAux=URLgenerate(Array[SuperArray][0],NextBrand,'URL2',i) \n",
    "                driver.get(UrlAux)\n",
    "                content = driver.page_source\n",
    "                time.sleep(1)\n",
    "                soup = BeautifulSoup(content)\n",
    "\n",
    "            print(UrlAux)\n",
    "            #print( soup.findAll('section',attrs={'class':'results grid'}))\n",
    "            #3rd  stage, looking for name and price\n",
    "            idPostion=0\n",
    "            for a in soup.findAll(FindAllType,attrs={'class':FindAllClass}):\n",
    "                name=a.find(FindNameType, attrs={'class':FindNameClass})\n",
    "                if bool(name)==True:\n",
    "                    products.append(name.text)\n",
    "\n",
    "                    #Price List\n",
    "                    if bool(a.find(FindPriceListType, attrs={'class':FindPriceListClass}))==True:\n",
    "                        AuxPriceList=a.find(FindPriceListType, attrs={'class':FindPriceListClass})\n",
    "                        PriceList.append((AuxPriceList.text.replace(\"\\n\", \"\")).replace(\" \",\"\"))\n",
    "                    else:\n",
    "                        PriceList.append(0)\n",
    "\n",
    "                    #Discount\n",
    "                    if bool(a.find(FindPriceOffType, attrs={'class':FindPriceOffClass}))==True:\n",
    "                        Discount.append(a.find(FindPriceOffType, attrs={'class':FindPriceOffClass}).text)\n",
    "                    else:\n",
    "                        Discount.append(0)\n",
    "\n",
    "                    #Final Price   \n",
    "                    if bool(a.find(NewPriceBoxType, attrs={'class':NewPriceBoxClass}))==True:\n",
    "                        price=a.find(NewPriceBoxType, attrs={'class':NewPriceBoxClass})\n",
    "                        prices.append((price.text.replace(\"\\n\", \"\")).replace(\" \",\"\"))\n",
    "                    elif bool(a.find(FindPriceType, attrs={'class':FindPriceClass}))==True:\n",
    "                        price=a.find(FindPriceType, attrs={'class':FindPriceClass})\n",
    "                        prices.append((price.text.replace(\"\\n\", \"\")).replace(\" \",\"\"))\n",
    "                    else:\n",
    "                        prices.append(0)\n",
    "\n",
    "                    #PAyment term\n",
    "                    if bool(a.find(FindPaytermType, attrs={'class':FindPaytermClass}))==True:\n",
    "                        Payment.append(a.find(FindPaytermType, attrs={'class':FindPaytermClass}).text)\n",
    "                    else:\n",
    "                        Payment.append(0)\n",
    "\n",
    "                    idPostion+=1\n",
    "                    Position.append(idPostion)\n",
    "                    PageN.append(i+1)\n",
    "            #print(products)\n",
    "        df=pd.DataFrame({'Product Name':products,'Price List':PriceList,'Price Off':Discount,'Price':prices,'Payment Term':Payment,\n",
    "                         'Position':Position,'PageNumber':PageN}) \n",
    "\n",
    "        CreateFile(df,ExcelFile,(brands[NextBrand]))\n",
    "\n",
    "    driver.quit()"
   ]
  },
  {
   "cell_type": "code",
   "execution_count": 58,
   "metadata": {},
   "outputs": [],
   "source": [
    "driver.quit()"
   ]
  },
  {
   "cell_type": "code",
   "execution_count": null,
   "metadata": {},
   "outputs": [],
   "source": [
    "name\n"
   ]
  },
  {
   "cell_type": "code",
   "execution_count": null,
   "metadata": {},
   "outputs": [],
   "source": [
    "print(name)"
   ]
  },
  {
   "cell_type": "code",
   "execution_count": null,
   "metadata": {},
   "outputs": [],
   "source": [
    "FindNameType"
   ]
  },
  {
   "cell_type": "code",
   "execution_count": null,
   "metadata": {},
   "outputs": [],
   "source": [
    "FindNameClass"
   ]
  },
  {
   "cell_type": "code",
   "execution_count": null,
   "metadata": {},
   "outputs": [],
   "source": [
    "FindAllType"
   ]
  },
  {
   "cell_type": "code",
   "execution_count": null,
   "metadata": {},
   "outputs": [],
   "source": [
    "FindAllClass"
   ]
  },
  {
   "cell_type": "code",
   "execution_count": null,
   "metadata": {},
   "outputs": [],
   "source": [
    "a"
   ]
  },
  {
   "cell_type": "code",
   "execution_count": null,
   "metadata": {},
   "outputs": [],
   "source": []
  }
 ],
 "metadata": {
  "kernelspec": {
   "display_name": "Python 3",
   "language": "python",
   "name": "python3"
  },
  "language_info": {
   "codemirror_mode": {
    "name": "ipython",
    "version": 3
   },
   "file_extension": ".py",
   "mimetype": "text/x-python",
   "name": "python",
   "nbconvert_exporter": "python",
   "pygments_lexer": "ipython3",
   "version": "3.7.6"
  }
 },
 "nbformat": 4,
 "nbformat_minor": 4
}
