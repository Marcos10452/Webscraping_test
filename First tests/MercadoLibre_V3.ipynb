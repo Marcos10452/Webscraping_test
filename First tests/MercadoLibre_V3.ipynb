{
 "cells": [
  {
   "cell_type": "code",
   "execution_count": 108,
   "metadata": {},
   "outputs": [],
   "source": [
    "#Selenium is a web testing library. It is used to automate browser activities.\n",
    "from selenium import webdriver\n",
    "#Beautiful Soup is a Python package for parsing HTML and XML documents. \n",
    "#It creates parse trees that is helpful to extract the data easily.\n",
    "from bs4 import BeautifulSoup\n",
    "import pandas as pd\n",
    "from openpyxl import load_workbook"
   ]
  },
  {
   "cell_type": "code",
   "execution_count": 109,
   "metadata": {},
   "outputs": [],
   "source": [
    "driver = webdriver.Chrome(\"C:\\ChromeDriver\\chromedriver.exe\")"
   ]
  },
  {
   "cell_type": "code",
   "execution_count": 110,
   "metadata": {},
   "outputs": [],
   "source": [
    "brands={'lg':169,'bgh':169,'samsung':179,'sony':179,'electrolux':169,'motorola':155,'huawei':179,'philips':179}\n",
    "#brands={'samsung':179}"
   ]
  },
  {
   "cell_type": "code",
   "execution_count": null,
   "metadata": {},
   "outputs": [],
   "source": []
  },
  {
   "cell_type": "code",
   "execution_count": 111,
   "metadata": {},
   "outputs": [
    {
     "name": "stdout",
     "output_type": "stream",
     "text": [
      "2\n",
      "0\n",
      "https://tienda.mercadolibre.com.ar/lg\n",
      "1\n",
      "https://listado.mercadolibre.com.ar/_Desde_49_Tienda_lg\n",
      "1\n",
      "0\n",
      "https://tienda.mercadolibre.com.ar/bgh\n",
      "2\n",
      "0\n",
      "https://tienda.mercadolibre.com.ar/samsung\n",
      "1\n",
      "https://listado.mercadolibre.com.ar/_Desde_49_Tienda_samsung\n",
      "2\n",
      "0\n",
      "https://tienda.mercadolibre.com.ar/sony\n",
      "1\n",
      "https://listado.mercadolibre.com.ar/_Desde_49_Tienda_sony\n",
      "2\n",
      "0\n",
      "https://tienda.mercadolibre.com.ar/electrolux\n",
      "1\n",
      "https://listado.mercadolibre.com.ar/_Desde_49_Tienda_electrolux\n",
      "1\n",
      "0\n",
      "https://tienda.mercadolibre.com.ar/motorola\n",
      "1\n",
      "0\n",
      "https://tienda.mercadolibre.com.ar/huawei\n",
      "8\n",
      "0\n",
      "https://tienda.mercadolibre.com.ar/philips\n",
      "1\n",
      "https://listado.mercadolibre.com.ar/_Desde_49_Tienda_philips\n",
      "2\n",
      "https://listado.mercadolibre.com.ar/_Desde_97_Tienda_philips\n",
      "3\n",
      "https://listado.mercadolibre.com.ar/_Desde_145_Tienda_philips\n",
      "4\n",
      "https://listado.mercadolibre.com.ar/_Desde_193_Tienda_philips\n",
      "5\n",
      "https://listado.mercadolibre.com.ar/_Desde_241_Tienda_philips\n",
      "6\n",
      "https://listado.mercadolibre.com.ar/_Desde_289_Tienda_philips\n",
      "7\n",
      "https://listado.mercadolibre.com.ar/_Desde_337_Tienda_philips\n"
     ]
    }
   ],
   "source": [
    "# Create a Pandas Excel writer using XlsxWriter as the engine.\n",
    "writer = pd.ExcelWriter('WebCheck.xlsx', engine='xlsxwriter')\n",
    "writer.save()\n",
    "for NextBrand in brands:\n",
    "    products=[] #List to store name of the product\n",
    "    prices=[] #List to store price of the product\n",
    "    UrlAux=\"https://tienda.mercadolibre.com.ar/\"+NextBrand\n",
    "    driver.get(UrlAux)\n",
    "    content = driver.page_source\n",
    "    soup = BeautifulSoup(content)\n",
    "    \n",
    "   # print(soup.find('ul',attrs={'class':'andes-pagination'}).prettify())\n",
    "    TotalNum=len(soup.findAll('a', attrs={'class':'andes-pagination__link'}))-1\n",
    "    if TotalNum<0:\n",
    "        TotalNum=1\n",
    "\n",
    "    print(TotalNum)\n",
    "    for i in  range(TotalNum):\n",
    "        print(i)\n",
    "        if i>0 :\n",
    "            UrlAux=\"https://listado.mercadolibre.com.ar/_Desde_\"+str((1+((i)*48)))+\"_Tienda_\"+NextBrand\n",
    "            driver.get(UrlAux)\n",
    "            content = driver.page_source\n",
    "            soup = BeautifulSoup(content)\n",
    "\n",
    "        print(UrlAux)\n",
    "        #print( soup.findAll('section',attrs={'class':'results grid'}))\n",
    "        for a in soup.findAll('div',attrs={'class':'item__info'}):\n",
    "            name=a.find('span', attrs={'class':'main-title'})\n",
    "            price=a.find('div', attrs={'class':'item__price'})\n",
    "            #rating=a.find('div', attrs={'class':'hGSR34 _2beYZw'})\n",
    "            #print(rating)\n",
    "            #print(name.text)\n",
    "            products.append(name.text)\n",
    "            prices.append(price.text)\n",
    "        #print(products)\n",
    "    df = pd.DataFrame({'Product Name':products,'Price':prices}) \n",
    "    writer = pd.ExcelWriter('WebCheck.xlsx', engine='openpyxl')\n",
    "    # try to open an existing workbook\n",
    "    writer.book = load_workbook('WebCheck.xlsx')\n",
    "    # copy existing sheets\n",
    "    writer.sheets = dict((ws.title, ws) for ws in writer.book.worksheets)\n",
    "    # read existing file\n",
    "    reader = pd.read_excel('WebCheck.xlsx')\n",
    "    # write out the new sheet\n",
    "    df.to_excel(writer,sheet_name=NextBrand,index=False)\n",
    "\n",
    "\n",
    "    #print(df)\n",
    "     # Close the Pandas Excel writer and output the Excel file.\n",
    "    writer.save()\n",
    "\n",
    "    # Convert the dataframe to an XlsxWriter Excel object.\n",
    "    #df.to_excel(writer, sheet_name=NextBrand)\n",
    "\n",
    "\n",
    "\n",
    "    #df.to_excel(r'C:\\Users\\Marcos\\Desktop\\Python_ITBA\\My test\\WebCheck.xlsx', sheet_name=NextBrand, index = False)\n",
    "driver.quit()"
   ]
  },
  {
   "cell_type": "code",
   "execution_count": null,
   "metadata": {},
   "outputs": [],
   "source": []
  },
  {
   "cell_type": "code",
   "execution_count": null,
   "metadata": {},
   "outputs": [],
   "source": []
  },
  {
   "cell_type": "code",
   "execution_count": null,
   "metadata": {},
   "outputs": [],
   "source": []
  },
  {
   "cell_type": "code",
   "execution_count": null,
   "metadata": {},
   "outputs": [],
   "source": []
  }
 ],
 "metadata": {
  "kernelspec": {
   "display_name": "Python 3",
   "language": "python",
   "name": "python3"
  },
  "language_info": {
   "codemirror_mode": {
    "name": "ipython",
    "version": 3
   },
   "file_extension": ".py",
   "mimetype": "text/x-python",
   "name": "python",
   "nbconvert_exporter": "python",
   "pygments_lexer": "ipython3",
   "version": "3.7.6"
  }
 },
 "nbformat": 4,
 "nbformat_minor": 4
}
